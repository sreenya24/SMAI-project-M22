{
 "cells": [
  {
   "cell_type": "code",
   "execution_count": null,
   "metadata": {},
   "outputs": [],
   "source": [
    "import numpy as np\n",
    "import cv2 as cv\n",
    "import os\n",
    "k = 60\n",
    "w = (480//k)*(360//k)\n",
    "import os\n",
    "\n",
    "for i in range(len(os.listdir('imgs'))):\n",
    "    img = cv.imread('imgs/'+os.listdir('imgs')[i])\n",
    "    r_ratio = np.zeros((img.shape[0],img.shape[1]))\n",
    "    g_ratio = np.zeros((img.shape[0],img.shape[1]))\n",
    "    average = np.zeros((img.shape[0],img.shape[1]))\n",
    "    for j in range(img.shape[0]):\n",
    "        for k in range(img.shape[1]):\n",
    "            r_ratio[j,k] = (img[j,k,2]/255)/(img[j,k,0]/255+(img[j,k,1])/255+(img[j,k,2])/255+0.0001)\n",
    "            g_ratio[j,k] = (img[i,j,1]/255)/(img[i,j,0]/255+img[i,j,1]/255+img[i,j,2]/255+0.0001)\n",
    "            average[j,k] = (img[j,k,0]/255+img[j,k,1]/255+img[j,k,2]/255)/3\n",
    "\n",
    "    r_ratio_block = np.zeros((img.shape[0]//k,img.shape[1]//k))\n",
    "    g_ratio_block = np.zeros((img.shape[0]//k,img.shape[1]//k))\n",
    "    average_block = np.zeros((img.shape[0]//k,img.shape[1]//k))\n",
    "    for j in range(img.shape[0]//k):\n",
    "        for l in range(img.shape[1]//k):\n",
    "            r_ratio_block[j,l] = np.mean(r_ratio[j*k:(j+1)*k,l*k:(l+1)*k])\n",
    "            g_ratio_block[j,l] = np.mean(g_ratio[j*k:(j+1)*k,l*k:(l+1)*k])\n",
    "            average_block[j,l] = np.mean(average[j*k:(j+1)*k,l*k:(l+1)*k])\n",
    "\n",
    "    r_ratio_block_std = np.zeros((img.shape[0]//k,img.shape[1]//k))\n",
    "    g_ratio_block_std = np.zeros((img.shape[0]//k,img.shape[1]//k))\n",
    "    average_block_std = np.zeros((img.shape[0]//k,img.shape[1]//k))\n",
    "    for j in range(img.shape[0]//k):\n",
    "        for l in range(img.shape[1]//k):\n",
    "            r_ratio_block_std[j,l] = np.std(r_ratio[j*k:(j+1)*k,l*k:(l+1)*k])\n",
    "            g_ratio_block_std[j,l] = np.std(g_ratio[j*k:(j+1)*k,l*k:(l+1)*k])\n",
    "            average_block_std[j,l] = np.std(average[j*k:(j+1)*k,l*k:(l+1)*k])\n",
    "\n",
    "    # reshape the arrays to 1D\n",
    "    r_ratio_block = r_ratio_block.reshape(-1)\n",
    "    g_ratio_block = g_ratio_block.reshape(-1)\n",
    "    average_block = average_block.reshape(-1)\n",
    "    r_ratio_block_std = r_ratio_block_std.reshape(-1)\n",
    "    g_ratio_block_std = g_ratio_block_std.reshape(-1)\n",
    "    average_block_std = average_block_std.reshape(-1)\n",
    "\n",
    "    # hstack the arrays\n",
    "    mstd_features = np.hstack((r_ratio_block,g_ratio_block,average_block,r_ratio_block_std,g_ratio_block_std,average_block_std))"
   ]
  }
 ],
 "metadata": {
  "language_info": {
   "name": "python"
  },
  "orig_nbformat": 4
 },
 "nbformat": 4,
 "nbformat_minor": 2
}
