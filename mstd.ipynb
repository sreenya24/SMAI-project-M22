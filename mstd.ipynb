{
 "cells": [
  {
   "cell_type": "code",
   "execution_count": 5,
   "metadata": {},
   "outputs": [],
   "source": [
    "import numpy as np\n",
    "import cv2 as cv\n",
    "import os\n",
    "k = 60\n",
    "mstd_features = np.zeros((len(os.listdir('imgs'))*(360//k)*(480//k),6))\n",
    "\n",
    "for i in range(len(os.listdir('imgs'))):\n",
    "    img = cv.imread('imgs/'+os.listdir('imgs')[i])\n",
    "    \n",
    "    colors_sum = img[...,0] + img[...,1] + img[...,2]\n",
    "    r_ratio = img[...,2]/(colors_sum+0.0001)\n",
    "    g_ratio = img[...,1]/(colors_sum+0.0001)\n",
    "    norm = colors_sum/3\n",
    "\n",
    "    for j in range(img.shape[0]//k):\n",
    "        for l in range(img.shape[1]//k):\n",
    "            r_avg = []\n",
    "            g_avg = []\n",
    "            norm_avg = []\n",
    "            \n",
    "            r_std = []\n",
    "            g_std = []\n",
    "            norm_std = []\n",
    "            r_avg.append(np.mean(r_ratio[j*k:(j+1)*k,l*k:(l+1)*k]))\n",
    "            g_avg.append(np.mean(g_ratio[j*k:(j+1)*k,l*k:(l+1)*k]))\n",
    "            norm_avg.append(np.mean(norm[j*k:(j+1)*k,l*k:(l+1)*k]))\n",
    "\n",
    "            r_std.append(np.std(r_ratio[j*k:(j+1)*k,l*k:(l+1)*k]))\n",
    "            g_std.append(np.std(g_ratio[j*k:(j+1)*k,l*k:(l+1)*k]))\n",
    "            norm_std.append(np.std(norm[j*k:(j+1)*k,l*k:(l+1)*k]))\n",
    "\n",
    "            # reshape the arrays to 1D\n",
    "            r_avg = np.array(r_avg).reshape(-1)\n",
    "            g_avg = np.array(g_avg).reshape(-1)\n",
    "            norm_avg = np.array(norm_avg).reshape(-1)\n",
    "            r_std = np.array(r_std).reshape(-1)\n",
    "            g_std = np.array(g_std).reshape(-1)\n",
    "            norm_std = np.array(norm_std).reshape(-1)\n",
    "            # hstack the arrays \n",
    "            mstd = (np.hstack((r_avg, g_avg, norm_avg, r_std, g_std, norm_std))) \n",
    "            mstd_features[i] = mstd\n",
    "   "
   ]
  },
  {
   "cell_type": "code",
   "execution_count": 7,
   "metadata": {},
   "outputs": [],
   "source": [
    "def distance(x,y):\n",
    "    return np.sqrt(np.sum((x-y)**2))\n",
    "\n",
    "def mean(x):\n",
    "    return np.sum(x,axis=0)/len(x)\n",
    "\n",
    "def k_means_clustering(X,k):\n",
    "    # centers = X[np.random.choice(k,X.shape[1],replace=False),:]\n",
    "    # initializing centers to 0\n",
    "    centers = np.zeros((k,X.shape[1]))\n",
    "\n",
    "    # randomly initializing centers\n",
    "    for i in range(k):\n",
    "        centers[i] = X[np.random.randint(0,X.shape[0]),:]\n",
    "\n",
    "    labels = np.zeros(X.shape[0])\n",
    "    \n",
    "    dist = np.zeros((X.shape[0],k))\n",
    " \n",
    "    n_iter = 0\n",
    "    \n",
    "    n_changes = 0\n",
    "\n",
    "    prev_labels = centers.copy()\n",
    "    while True:\n",
    "        for i in range(k):\n",
    "            # dist[:,i] = np.apply_along_axis(distance,1,X,centers[i,:])\n",
    "            dist[:, i] = np.sqrt(np.sum((X - centers[i, :]) ** 2, axis=1))\n",
    "        labels = np.argmin(dist,axis=1)\n",
    "       \n",
    "        for i in range(k):\n",
    "            if(len(X[labels==i])>0):\n",
    "                centers[i,:] = mean(X[labels==i,:])\n",
    "  \n",
    "        n_changes = len(centers[np.abs(centers-prev_labels)>0.0001*np.ones(centers.shape)])\n",
    "    \n",
    "        prev_labels = centers.copy()\n",
    "       \n",
    "        n_iter += 1\n",
    "  \n",
    "        if n_changes==0:\n",
    "            break\n",
    "    return labels,centers,n_iter"
   ]
  },
  {
   "cell_type": "code",
   "execution_count": 8,
   "metadata": {},
   "outputs": [],
   "source": [
    "labels,centers,n_iter = k_means_clustering(mstd_features,30)"
   ]
  },
  {
   "cell_type": "code",
   "execution_count": 9,
   "metadata": {},
   "outputs": [],
   "source": [
    "with open('image_words_mstd.txt','w') as f:\n",
    "    for i in range(centers.shape[0]):\n",
    "        f.write(str(centers[i,:])+'\\n')"
   ]
  }
 ],
 "metadata": {
  "kernelspec": {
   "display_name": "Python 3.10.4 64-bit",
   "language": "python",
   "name": "python3"
  },
  "language_info": {
   "codemirror_mode": {
    "name": "ipython",
    "version": 3
   },
   "file_extension": ".py",
   "mimetype": "text/x-python",
   "name": "python",
   "nbconvert_exporter": "python",
   "pygments_lexer": "ipython3",
   "version": "3.10.4"
  },
  "orig_nbformat": 4,
  "vscode": {
   "interpreter": {
    "hash": "77d8d1e087878d30b8828074a1865708e976255f32478b5050cf9536424e6ecf"
   }
  }
 },
 "nbformat": 4,
 "nbformat_minor": 2
}
