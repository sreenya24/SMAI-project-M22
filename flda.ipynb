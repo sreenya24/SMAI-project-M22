{
 "cells": [
  {
   "cell_type": "code",
   "execution_count": 148,
   "metadata": {},
   "outputs": [],
   "source": [
    "%reset -f"
   ]
  },
  {
   "cell_type": "code",
   "execution_count": 158,
   "metadata": {},
   "outputs": [],
   "source": [
    "import numpy as np\n",
    "from keras.datasets import mnist\n",
    "import matplotlib.pyplot as plt"
   ]
  },
  {
   "cell_type": "code",
   "execution_count": 182,
   "metadata": {},
   "outputs": [],
   "source": [
    "# load x, y\n",
    "\n",
    "(x_train, y_train), (x_test, y_test) = mnist.load_data()\n",
    "\n",
    "# flatten x\n",
    "x_train = x_train.reshape(x_train.shape[0], -1)\n",
    "x_test = x_test.reshape(x_test.shape[0], -1)"
   ]
  },
  {
   "cell_type": "code",
   "execution_count": 183,
   "metadata": {},
   "outputs": [],
   "source": [
    "y_train[y_train>5] = 255\n",
    "y_train[y_train!=255] = 0\n",
    "y_train[y_train==255] = 1"
   ]
  },
  {
   "cell_type": "code",
   "execution_count": 184,
   "metadata": {},
   "outputs": [],
   "source": [
    "y_test[y_test>5] = 255\n",
    "y_test[y_test!=255] = 0\n",
    "y_test[y_test==255] = 1"
   ]
  },
  {
   "cell_type": "code",
   "execution_count": 185,
   "metadata": {},
   "outputs": [],
   "source": [
    "# binary classification problem. Class 1 if digit is > 5 or else it is Class 0\n",
    "\n",
    "def fLDA_train(X, y):\n",
    "    mean1 = (np.mean(X[y==1], axis=0)).reshape(-1,1)\n",
    "    mean0 = (np.mean(X[y==0], axis=0)).reshape(-1,1)\n",
    "\n",
    "    cov1 = np.cov(X[y==1].T)\n",
    "    cov0 = np.cov(X[y==0].T)\n",
    "\n",
    "    Sw = cov1 + cov0\n",
    "\n",
    "    w = np.linalg.inv(Sw+1*np.eye(Sw.shape[0])).dot(mean1 - mean0)\n",
    "\n",
    "\n",
    "    return mean1, mean0, w"
   ]
  },
  {
   "cell_type": "code",
   "execution_count": 186,
   "metadata": {},
   "outputs": [],
   "source": [
    "def fLDA_test(X, y, w):\n",
    "    y_pred = np.sign(X.dot(w))\n",
    "    y_pred[y_pred==-1] = 0\n",
    "    y_pred = y_pred.reshape(-1,1)\n",
    "    y = y.reshape(-1,1)\n",
    "    acc = len(y[y==y_pred])/len(y)\n",
    "    return acc\n"
   ]
  },
  {
   "cell_type": "code",
   "execution_count": 187,
   "metadata": {},
   "outputs": [
    {
     "name": "stdout",
     "output_type": "stream",
     "text": [
      "0.6907\n"
     ]
    }
   ],
   "source": [
    "mean1, mean0, w = fLDA_train(x_train, y_train)\n",
    "print(fLDA_test(x_test, y_test, w))"
   ]
  },
  {
   "cell_type": "code",
   "execution_count": 188,
   "metadata": {},
   "outputs": [
    {
     "data": {
      "text/plain": [
       "(784, 1)"
      ]
     },
     "execution_count": 188,
     "metadata": {},
     "output_type": "execute_result"
    }
   ],
   "source": [
    "w.shape"
   ]
  },
  {
   "cell_type": "code",
   "execution_count": 196,
   "metadata": {},
   "outputs": [
    {
     "ename": "IndexError",
     "evalue": "boolean index did not match indexed array along dimension 1; dimension is 784 but corresponding boolean dimension is 1",
     "output_type": "error",
     "traceback": [
      "\u001b[1;31m---------------------------------------------------------------------------\u001b[0m",
      "\u001b[1;31mIndexError\u001b[0m                                Traceback (most recent call last)",
      "\u001b[1;32md:\\Courses\\SMAI\\project\\flda.ipynb Cell 10\u001b[0m in \u001b[0;36m<cell line: 21>\u001b[1;34m()\u001b[0m\n\u001b[0;32m     <a href='vscode-notebook-cell:/d%3A/Courses/SMAI/project/flda.ipynb#X24sZmlsZQ%3D%3D?line=18'>19</a>\u001b[0m plotlabels \u001b[39m=\u001b[39m [\u001b[39m'\u001b[39m\u001b[39mClass 0\u001b[39m\u001b[39m'\u001b[39m, \u001b[39m'\u001b[39m\u001b[39mClass 1\u001b[39m\u001b[39m'\u001b[39m]\n\u001b[0;32m     <a href='vscode-notebook-cell:/d%3A/Courses/SMAI/project/flda.ipynb#X24sZmlsZQ%3D%3D?line=20'>21</a>\u001b[0m \u001b[39mfor\u001b[39;00m i \u001b[39min\u001b[39;00m \u001b[39mrange\u001b[39m(\u001b[39mlen\u001b[39m(classes)):\n\u001b[1;32m---> <a href='vscode-notebook-cell:/d%3A/Courses/SMAI/project/flda.ipynb#X24sZmlsZQ%3D%3D?line=21'>22</a>\u001b[0m     plt\u001b[39m.\u001b[39mplot(x_test[y_pred\u001b[39m==\u001b[39;49mclasses[i]][:,\u001b[39m498\u001b[39m], x_test[y_pred\u001b[39m==\u001b[39mclasses[i]][:,\u001b[39m244\u001b[39m], \u001b[39m'\u001b[39m\u001b[39m.\u001b[39m\u001b[39m'\u001b[39m, color\u001b[39m=\u001b[39mcolors[i], label\u001b[39m=\u001b[39mplotlabels[i])\n\u001b[0;32m     <a href='vscode-notebook-cell:/d%3A/Courses/SMAI/project/flda.ipynb#X24sZmlsZQ%3D%3D?line=23'>24</a>\u001b[0m plt\u001b[39m.\u001b[39mshow()\n",
      "\u001b[1;31mIndexError\u001b[0m: boolean index did not match indexed array along dimension 1; dimension is 784 but corresponding boolean dimension is 1"
     ]
    },
    {
     "data": {
      "image/png": "[encoded data removed]",
      "text/plain": [
       "<Figure size 432x288 with 1 Axes>"
      ]
     },
     "metadata": {
      "needs_background": "light"
     },
     "output_type": "display_data"
    }
   ],
   "source": [
    "import matplotlib.cm as cm\n",
    "\n",
    "plt.figure()\n",
    "plt.plot(x_test[y_test==0][:,498], x_test[y_test==0][:,244], 'b.')\n",
    "plt.plot(x_test[y_test==1][:,498], x_test[y_test==1][:,244], 'r.')\n",
    "\n",
    "plt.plot([-w[498], w[498]], [-w[244], w[244]], 'kx') \n",
    "plt.plot(mean0[498], mean0[244], 'cx')\n",
    "plt.plot(mean1[498], mean1[244], 'yx')\n",
    "\n",
    "y_pred = np.sign(x_test.dot(w))\n",
    "y_pred[y_pred==-1] = 0\n",
    "y_pred = y_pred.reshape(-1,1)\n",
    "y = y_test.reshape(-1,1)\n",
    "\n",
    "classes = np.unique(y)\n",
    "colors = cm.rainbow(np.linspace(0, 1, len(classes)))\n",
    "\n",
    "plotlabels = {classes[c] : colors[c] for c in range(len(classes))}\n",
    "\n",
    "for i in range(len(classes)):\n",
    "    plt.scatter()\n",
    "plt.show()"
   ]
  },
  {
   "cell_type": "code",
   "execution_count": null,
   "metadata": {},
   "outputs": [],
   "source": []
  }
 ],
 "metadata": {
  "kernelspec": {
   "display_name": "Python 3.10.4 64-bit",
   "language": "python",
   "name": "python3"
  },
  "language_info": {
   "codemirror_mode": {
    "name": "ipython",
    "version": 3
   },
   "file_extension": ".py",
   "mimetype": "text/x-python",
   "name": "python",
   "nbconvert_exporter": "python",
   "pygments_lexer": "ipython3",
   "version": "3.10.4"
  },
  "orig_nbformat": 4,
  "vscode": {
   "interpreter": {
    "hash": "77d8d1e087878d30b8828074a1865708e976255f32478b5050cf9536424e6ecf"
   }
  }
 },
 "nbformat": 4,
 "nbformat_minor": 2
}
