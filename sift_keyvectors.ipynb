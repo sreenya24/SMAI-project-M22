{
 "cells": [
  {
   "cell_type": "code",
   "execution_count": 81,
   "metadata": {},
   "outputs": [],
   "source": [
    "import numpy as np\n",
    "import cv2 as cv\n",
    "import os"
   ]
  },
  {
   "cell_type": "code",
   "execution_count": 82,
   "metadata": {},
   "outputs": [],
   "source": [
    "# read the sift vectors from the file\n",
    "def read_sift_vectors(filename):\n",
    "    sift_vectors = []\n",
    "    x = 0\n",
    "    # parse the file at paranthesis\n",
    "    with open(filename, 'r') as f:\n",
    "        # read first line of f\n",
    "        line = f.readline()\n",
    "        while line:\n",
    "            temp_list = []\n",
    "            line = line.strip()\n",
    "            if line.startswith('['):\n",
    "                while(not line.endswith(']\\n')):\n",
    "                    temp = line.replace('[', '')\n",
    "                    temp = temp.replace(']', '')\n",
    "                    temp = temp.replace('\\n', '')\n",
    "                    temp = temp[1:]\n",
    "                    temp = temp.split(' ')\n",
    "                    # remove empty strings\n",
    "                    temp = list(filter(None, temp))\n",
    "                    temp_list.extend(float(temp[i]) for i in range(len(temp)))\n",
    "                    line = f.readline()\n",
    "                temp = line.replace(']', '') \n",
    "                temp = temp.replace('\\n', '')\n",
    "                temp = temp[1:]\n",
    "                temp = temp.split(' ')\n",
    "                # remove empty strings\n",
    "                temp = list(filter(None, temp))\n",
    "                temp_list.extend(float(temp[i]) for i in range(len(temp)))\n",
    "\n",
    "\n",
    "            # convert to numpy array\n",
    "            # parse the list to get the float values\n",
    "            temp_list = [float(i) for i in temp_list]\n",
    "            temp_list = np.array(temp_list)\n",
    "            sift_vectors.append(temp_list)\n",
    "            line = f.readline()\n",
    "\n",
    "\n",
    "\n",
    "    return np.array(sift_vectors)"
   ]
  },
  {
   "cell_type": "code",
   "execution_count": 83,
   "metadata": {},
   "outputs": [],
   "source": [
    "sift_file = './image_words_sift.txt'\n",
    "\n",
    "# read the sift vectors\n",
    "sift_vectors = read_sift_vectors(sift_file)"
   ]
  },
  {
   "cell_type": "code",
   "execution_count": 84,
   "metadata": {},
   "outputs": [],
   "source": [
    "def getFeatureVectors_sift(img, vocabulary):\n",
    "    features = np.zeros(len(vocabulary[0]))\n",
    "    sift = cv.SIFT_create()\n",
    "    gray = cv.cvtColor(img,cv.COLOR_BGR2GRAY)\n",
    "    kp = []\n",
    "    des = []\n",
    "    k = 60\n",
    "    for l in range(img.shape[0]//k):\n",
    "        for j in range(img.shape[1]//k):\n",
    "            kp_block = sift.detect(gray[l*k:(l+1)*k,j*k:(j+1)*k], None)\n",
    "            # extract only the strongest keypoints in each block\n",
    "            kp_block = sorted(kp_block, key=lambda x: -x.response)[:1]\n",
    "            # if there is no keypoint in the block, take the centre point as the keypoint\n",
    "            if len(kp_block) == 0:\n",
    "                kp_block = [cv.KeyPoint(l*k+k/2,j*k+k/2,k)]\n",
    "            kp_block,des_block = sift.compute(gray[l*k:(l+1)*k,j*k:(j+1)*k],kp_block)\n",
    "\n",
    "            # find minimum distance between the descriptors of the block and the vocabulary\n",
    "            features[np.argmin([np.linalg.norm(des_block - v) for v in vocabulary])] += 1\n",
    "\n",
    "    return features"
   ]
  },
  {
   "cell_type": "code",
   "execution_count": 87,
   "metadata": {},
   "outputs": [],
   "source": [
    "image = cv.imread('./imgs/25.jpg')\n",
    "\n",
    "# get the feature vectors\n",
    "feature_vectors = getFeatureVectors_sift(image, sift_vectors)"
   ]
  }
 ],
 "metadata": {
  "kernelspec": {
   "display_name": "Python 3.10.4 64-bit",
   "language": "python",
   "name": "python3"
  },
  "language_info": {
   "codemirror_mode": {
    "name": "ipython",
    "version": 3
   },
   "file_extension": ".py",
   "mimetype": "text/x-python",
   "name": "python",
   "nbconvert_exporter": "python",
   "pygments_lexer": "ipython3",
   "version": "3.10.4"
  },
  "orig_nbformat": 4,
  "vscode": {
   "interpreter": {
    "hash": "77d8d1e087878d30b8828074a1865708e976255f32478b5050cf9536424e6ecf"
   }
  }
 },
 "nbformat": 4,
 "nbformat_minor": 2
}
