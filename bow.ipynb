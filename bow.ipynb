{
 "cells": [
  {
   "cell_type": "code",
   "execution_count": 17,
   "metadata": {},
   "outputs": [],
   "source": [
    "import os\n",
    "import numpy as np\n",
    "import re"
   ]
  },
  {
   "cell_type": "code",
   "execution_count": 27,
   "metadata": {},
   "outputs": [
    {
     "name": "stdout",
     "output_type": "stream",
     "text": [
      "../Smol_set/annotations_complete_eng/\n",
      "../Smol_set/annotations_complete_eng/01\n",
      "../Smol_set/annotations_complete_eng/05\n",
      "../Smol_set/annotations_complete_eng/04\n",
      "../Smol_set/annotations_complete_eng/00\n",
      "../Smol_set/annotations_complete_eng/03\n",
      "../Smol_set/annotations_complete_eng/02\n"
     ]
    }
   ],
   "source": [
    "path_to_annotations = '../Smol_set/annotations_complete_eng/'\n",
    "vocabulary = set()\n",
    "\n",
    "def parse_annotation_file(path_to_annotation_file):\n",
    "    # open in latin-1 encoding to avoid UnicodeDecodeError\n",
    "    with open(path_to_annotation_file, 'r', encoding='latin-1') as f:\n",
    "        # read the doc as a string\n",
    "        doc = f.read()\n",
    "        # replace \\n with space\n",
    "        doc = doc.replace('\\n', ' ')\n",
    "        # get parts between all <TITLE> and </TITLE> tags\n",
    "        titles = re.findall(r'<TITLE>(.*?)</TITLE>', doc)\n",
    "        # get parts between all <DESCRIPTION> and </DESCRIPTION> tags\n",
    "        descriptions = re.findall(r'<DESCRIPTION>(.*?)</DESCRIPTION>', doc)\n",
    "        # get parts between all <NOTES> and </NOTES> tags\n",
    "        notes = re.findall(r'<NOTES>(.*?)</NOTES>', doc)\n",
    "        # get parts between all <LOCATION> and </LOCATION> tags\n",
    "        locations = re.findall(r'<LOCATION>(.*?)</LOCATION>', doc)\n",
    "\n",
    "        # split into words and add to vocabulary\n",
    "        for title in titles:\n",
    "            for word in title.split():\n",
    "                word = word.strip(' .,;:!?()[]\\{\\}\\'\\\"')\n",
    "                word = word.lower()\n",
    "                vocabulary.add(word)\n",
    "        for description in descriptions:\n",
    "            for word in description.split():\n",
    "                word = word.strip('.,;:!?()[]\\{\\}\\'\\\"')\n",
    "                word = word.lower()\n",
    "                vocabulary.add(word)\n",
    "        for note in notes:\n",
    "            for word in note.split():\n",
    "                word = word.strip('.,;:!?()[]\\{\\}\\'\\\"')\n",
    "                word = word.lower()\n",
    "                vocabulary.add(word)\n",
    "        for location in locations:\n",
    "            for word in location.split():\n",
    "                word = word.strip('.,;:!?()[]\\{\\}\\'\\\"')\n",
    "                word = word.lower()\n",
    "                vocabulary.add(word)\n",
    "\n",
    "        # print('titles: ', titles)\n",
    "        # print('descriptions: ', descriptions)\n",
    "        # print('notes: ', notes)\n",
    "        # print('locations: ', locations)\n",
    "\n",
    "    return titles, descriptions, notes, locations\n",
    "\n",
    "for (root, dirs, files) in os.walk(path_to_annotations, topdown=True):\n",
    "    print(root)\n",
    "    # print(dirs)\n",
    "    # print(files)\n",
    "    for file in files:\n",
    "        # parses the annotation file and adds the words to the vocabulary\n",
    "        parse_annotation_file(os.path.join(root, file))\n",
    "\n",
    "# print('vocabulary: ', vocabulary)\n",
    "with open('vocabulary.txt', 'w') as f:\n",
    "    for word in vocabulary:\n",
    "        f.write(word + '\\n')\n"
   ]
  },
  {
   "cell_type": "code",
   "execution_count": null,
   "metadata": {},
   "outputs": [],
   "source": []
  }
 ],
 "metadata": {
  "kernelspec": {
   "display_name": "Python 3.8.10 64-bit",
   "language": "python",
   "name": "python3"
  },
  "language_info": {
   "codemirror_mode": {
    "name": "ipython",
    "version": 3
   },
   "file_extension": ".py",
   "mimetype": "text/x-python",
   "name": "python",
   "nbconvert_exporter": "python",
   "pygments_lexer": "ipython3",
   "version": "3.8.10"
  },
  "orig_nbformat": 4,
  "vscode": {
   "interpreter": {
    "hash": "31f2aee4e71d21fbe5cf8b01ff0e069b9275f58929596ceb00d14d90e3e16cd6"
   }
  }
 },
 "nbformat": 4,
 "nbformat_minor": 2
}
