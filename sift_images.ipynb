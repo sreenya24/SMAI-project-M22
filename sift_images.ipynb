{
 "cells": [
  {
   "cell_type": "code",
   "execution_count": 2,
   "metadata": {},
   "outputs": [],
   "source": [
    "import numpy as np\n",
    "import cv2 as cv\n",
    "import os\n",
    "sift_all = []\n",
    "for i in range(len(os.listdir('imgs'))):\n",
    "    img = cv.imread('imgs/'+os.listdir('imgs')[i])\n",
    "    sift = cv.SIFT_create()\n",
    "    gray = cv.cvtColor(img,cv.COLOR_BGR2GRAY)\n",
    "    kp = []\n",
    "    des = []\n",
    "    k = 60\n",
    "    for l in range(img.shape[0]//k):\n",
    "        for j in range(img.shape[1]//k):\n",
    "            kp_block = sift.detect(gray[l*k:(l+1)*k,j*k:(j+1)*k], None)\n",
    "            # extract only the strongest keypoints in each block\n",
    "            kp_block = sorted(kp_block, key=lambda x: -x.response)[:1]\n",
    "            # if there is no keypoint in the block, take the centre point as the keypoint\n",
    "            if len(kp_block) == 0:\n",
    "                kp_block = [cv.KeyPoint(l*k+k/2,j*k+k/2,k)]\n",
    "            kp_block,des_block = sift.compute(gray[l*k:(l+1)*k,j*k:(j+1)*k],kp_block)\n",
    "\n",
    "            kp.append(kp_block)\n",
    "            des.append(des_block)\n",
    "    \n",
    "    sift_all.extend(des)\n",
    "sift_all = np.array(sift_all)\n",
    "sift_all = sift_all.reshape(sift_all.shape[0],sift_all.shape[2])"
   ]
  },
  {
   "cell_type": "code",
   "execution_count": 3,
   "metadata": {},
   "outputs": [],
   "source": [
    "def distance(x,y):\n",
    "    return np.sqrt(np.sum((x-y)**2))\n",
    "\n",
    "def mean(x):\n",
    "    return np.sum(x,axis=0)/len(x)\n",
    "\n",
    "def k_means_clustering(X,k):\n",
    "    # centers = X[np.random.choice(k,X.shape[1],replace=False),:]\n",
    "    # initializing centers to 0\n",
    "    centers = np.zeros((k,X.shape[1]))\n",
    "\n",
    "    # randomly initializing centers\n",
    "    for i in range(k):\n",
    "        centers[i] = X[np.random.randint(0,X.shape[0]),:]\n",
    "\n",
    "    labels = np.zeros(X.shape[0])\n",
    "    \n",
    "    dist = np.zeros((X.shape[0],k))\n",
    " \n",
    "    n_iter = 0\n",
    "    \n",
    "    n_changes = 0\n",
    "\n",
    "    prev_labels = centers.copy()\n",
    "    while True:\n",
    "        for i in range(k):\n",
    "            # dist[:,i] = np.apply_along_axis(distance,1,X,centers[i,:])\n",
    "            dist[:, i] = np.sqrt(np.sum((X - centers[i, :]) ** 2, axis=1))\n",
    "        labels = np.argmin(dist,axis=1)\n",
    "       \n",
    "        for i in range(k):\n",
    "            if(len(X[labels==i])>0):\n",
    "                centers[i,:] = mean(X[labels==i,:])\n",
    "  \n",
    "        n_changes = len(centers[np.abs(centers-prev_labels)>0.0001*np.ones(centers.shape)])\n",
    "    \n",
    "        prev_labels = centers.copy()\n",
    "       \n",
    "        n_iter += 1\n",
    "  \n",
    "        if n_changes==0:\n",
    "            break\n",
    "    return labels,centers,n_iter"
   ]
  },
  {
   "cell_type": "code",
   "execution_count": 5,
   "metadata": {},
   "outputs": [],
   "source": [
    "labels,centers,n_iter = k_means_clustering(sift_all,30)"
   ]
  },
  {
   "cell_type": "code",
   "execution_count": null,
   "metadata": {},
   "outputs": [],
   "source": [
    "with open('image_words_sift.txt','w') as f:\n",
    "    for i in range(centers.shape[0]):\n",
    "        f.write(str(centers[i,:])+'\\n')"
   ]
  }
 ],
 "metadata": {
  "kernelspec": {
   "display_name": "Python 3.10.4 64-bit",
   "language": "python",
   "name": "python3"
  },
  "language_info": {
   "codemirror_mode": {
    "name": "ipython",
    "version": 3
   },
   "file_extension": ".py",
   "mimetype": "text/x-python",
   "name": "python",
   "nbconvert_exporter": "python",
   "pygments_lexer": "ipython3",
   "version": "3.10.4"
  },
  "orig_nbformat": 4,
  "vscode": {
   "interpreter": {
    "hash": "77d8d1e087878d30b8828074a1865708e976255f32478b5050cf9536424e6ecf"
   }
  }
 },
 "nbformat": 4,
 "nbformat_minor": 2
}
